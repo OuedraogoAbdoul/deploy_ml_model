{
 "cells": [
  {
   "cell_type": "code",
   "execution_count": 24,
   "metadata": {},
   "outputs": [],
   "source": [
    "import pandas as pd\n",
    "import numpy as np\n",
    "import random\n",
    "import matplotlib.pyplot as plt\n",
    "import seaborn as sns\n",
    "from sklearn.model_selection import train_test_split;\n"
   ]
  },
  {
   "cell_type": "code",
   "execution_count": 25,
   "metadata": {},
   "outputs": [],
   "source": [
    "\n",
    "## Add seed to ensure reproducabilty\n",
    "np.random.seed(42)\n",
    "random.seed(42)"
   ]
  },
  {
   "cell_type": "markdown",
   "metadata": {},
   "source": [
    "## Load dataset"
   ]
  },
  {
   "cell_type": "code",
   "execution_count": 26,
   "metadata": {},
   "outputs": [],
   "source": [
    "course_df = pd.read_csv(\"course_data.csv\")"
   ]
  },
  {
   "cell_type": "code",
   "execution_count": 27,
   "metadata": {},
   "outputs": [
    {
     "data": {
      "text/html": [
       "<div>\n",
       "<style scoped>\n",
       "    .dataframe tbody tr th:only-of-type {\n",
       "        vertical-align: middle;\n",
       "    }\n",
       "\n",
       "    .dataframe tbody tr th {\n",
       "        vertical-align: top;\n",
       "    }\n",
       "\n",
       "    .dataframe thead th {\n",
       "        text-align: right;\n",
       "    }\n",
       "</style>\n",
       "<table border=\"1\" class=\"dataframe\">\n",
       "  <thead>\n",
       "    <tr style=\"text-align: right;\">\n",
       "      <th></th>\n",
       "      <th>INITCAP</th>\n",
       "      <th>ACTCAP</th>\n",
       "      <th>WL_CAP</th>\n",
       "      <th>TERM</th>\n",
       "      <th>num_gradute</th>\n",
       "      <th>num_admited</th>\n",
       "      <th>Crse</th>\n",
       "      <th>Subj</th>\n",
       "      <th>CRN</th>\n",
       "    </tr>\n",
       "  </thead>\n",
       "  <tbody>\n",
       "    <tr>\n",
       "      <th>1483</th>\n",
       "      <td>200</td>\n",
       "      <td>164</td>\n",
       "      <td>0</td>\n",
       "      <td>Summer</td>\n",
       "      <td>187</td>\n",
       "      <td>681</td>\n",
       "      <td>6035</td>\n",
       "      <td>CS</td>\n",
       "      <td>39081</td>\n",
       "    </tr>\n",
       "    <tr>\n",
       "      <th>12892</th>\n",
       "      <td>550</td>\n",
       "      <td>536</td>\n",
       "      <td>0</td>\n",
       "      <td>Spring</td>\n",
       "      <td>127</td>\n",
       "      <td>357</td>\n",
       "      <td>6035</td>\n",
       "      <td>CS</td>\n",
       "      <td>39081</td>\n",
       "    </tr>\n",
       "    <tr>\n",
       "      <th>1175</th>\n",
       "      <td>50</td>\n",
       "      <td>25</td>\n",
       "      <td>0</td>\n",
       "      <td>Summer</td>\n",
       "      <td>135</td>\n",
       "      <td>629</td>\n",
       "      <td>6035</td>\n",
       "      <td>CS</td>\n",
       "      <td>39081</td>\n",
       "    </tr>\n",
       "    <tr>\n",
       "      <th>6554</th>\n",
       "      <td>450</td>\n",
       "      <td>427</td>\n",
       "      <td>0</td>\n",
       "      <td>Fall</td>\n",
       "      <td>111</td>\n",
       "      <td>404</td>\n",
       "      <td>6035</td>\n",
       "      <td>CS</td>\n",
       "      <td>39081</td>\n",
       "    </tr>\n",
       "    <tr>\n",
       "      <th>11039</th>\n",
       "      <td>600</td>\n",
       "      <td>608</td>\n",
       "      <td>8</td>\n",
       "      <td>Spring</td>\n",
       "      <td>179</td>\n",
       "      <td>524</td>\n",
       "      <td>6035</td>\n",
       "      <td>CS</td>\n",
       "      <td>39081</td>\n",
       "    </tr>\n",
       "    <tr>\n",
       "      <th>12032</th>\n",
       "      <td>999</td>\n",
       "      <td>993</td>\n",
       "      <td>0</td>\n",
       "      <td>Spring</td>\n",
       "      <td>158</td>\n",
       "      <td>331</td>\n",
       "      <td>6035</td>\n",
       "      <td>CS</td>\n",
       "      <td>39081</td>\n",
       "    </tr>\n",
       "    <tr>\n",
       "      <th>9217</th>\n",
       "      <td>350</td>\n",
       "      <td>354</td>\n",
       "      <td>4</td>\n",
       "      <td>Spring</td>\n",
       "      <td>164</td>\n",
       "      <td>397</td>\n",
       "      <td>6035</td>\n",
       "      <td>CS</td>\n",
       "      <td>39081</td>\n",
       "    </tr>\n",
       "    <tr>\n",
       "      <th>908</th>\n",
       "      <td>200</td>\n",
       "      <td>179</td>\n",
       "      <td>0</td>\n",
       "      <td>Summer</td>\n",
       "      <td>196</td>\n",
       "      <td>512</td>\n",
       "      <td>6035</td>\n",
       "      <td>CS</td>\n",
       "      <td>39081</td>\n",
       "    </tr>\n",
       "    <tr>\n",
       "      <th>10419</th>\n",
       "      <td>750</td>\n",
       "      <td>768</td>\n",
       "      <td>18</td>\n",
       "      <td>Spring</td>\n",
       "      <td>146</td>\n",
       "      <td>622</td>\n",
       "      <td>6035</td>\n",
       "      <td>CS</td>\n",
       "      <td>39081</td>\n",
       "    </tr>\n",
       "    <tr>\n",
       "      <th>399</th>\n",
       "      <td>300</td>\n",
       "      <td>309</td>\n",
       "      <td>9</td>\n",
       "      <td>Summer</td>\n",
       "      <td>106</td>\n",
       "      <td>285</td>\n",
       "      <td>6035</td>\n",
       "      <td>CS</td>\n",
       "      <td>39081</td>\n",
       "    </tr>\n",
       "  </tbody>\n",
       "</table>\n",
       "</div>"
      ],
      "text/plain": [
       "       INITCAP  ACTCAP  WL_CAP    TERM  num_gradute  num_admited  Crse Subj  \\\n",
       "1483       200     164       0  Summer          187          681  6035   CS   \n",
       "12892      550     536       0  Spring          127          357  6035   CS   \n",
       "1175        50      25       0  Summer          135          629  6035   CS   \n",
       "6554       450     427       0    Fall          111          404  6035   CS   \n",
       "11039      600     608       8  Spring          179          524  6035   CS   \n",
       "12032      999     993       0  Spring          158          331  6035   CS   \n",
       "9217       350     354       4  Spring          164          397  6035   CS   \n",
       "908        200     179       0  Summer          196          512  6035   CS   \n",
       "10419      750     768      18  Spring          146          622  6035   CS   \n",
       "399        300     309       9  Summer          106          285  6035   CS   \n",
       "\n",
       "         CRN  \n",
       "1483   39081  \n",
       "12892  39081  \n",
       "1175   39081  \n",
       "6554   39081  \n",
       "11039  39081  \n",
       "12032  39081  \n",
       "9217   39081  \n",
       "908    39081  \n",
       "10419  39081  \n",
       "399    39081  "
      ]
     },
     "execution_count": 27,
     "metadata": {},
     "output_type": "execute_result"
    }
   ],
   "source": [
    "course_df.sample(10)"
   ]
  },
  {
   "cell_type": "markdown",
   "metadata": {},
   "source": [
    "## Quick data summary"
   ]
  },
  {
   "cell_type": "code",
   "execution_count": 28,
   "metadata": {},
   "outputs": [
    {
     "name": "stdout",
     "output_type": "stream",
     "text": [
      "<class 'pandas.core.frame.DataFrame'>\n",
      "RangeIndex: 13500 entries, 0 to 13499\n",
      "Data columns (total 9 columns):\n",
      " #   Column       Non-Null Count  Dtype \n",
      "---  ------       --------------  ----- \n",
      " 0   INITCAP      13500 non-null  int64 \n",
      " 1   ACTCAP       13500 non-null  int64 \n",
      " 2   WL_CAP       13500 non-null  int64 \n",
      " 3   TERM         13500 non-null  object\n",
      " 4   num_gradute  13500 non-null  int64 \n",
      " 5   num_admited  13500 non-null  int64 \n",
      " 6   Crse         13500 non-null  int64 \n",
      " 7   Subj         13500 non-null  object\n",
      " 8   CRN          13500 non-null  int64 \n",
      "dtypes: int64(7), object(2)\n",
      "memory usage: 949.3+ KB\n"
     ]
    }
   ],
   "source": [
    "course_df.info()"
   ]
  },
  {
   "cell_type": "code",
   "execution_count": 29,
   "metadata": {},
   "outputs": [
    {
     "data": {
      "text/html": [
       "<div>\n",
       "<style scoped>\n",
       "    .dataframe tbody tr th:only-of-type {\n",
       "        vertical-align: middle;\n",
       "    }\n",
       "\n",
       "    .dataframe tbody tr th {\n",
       "        vertical-align: top;\n",
       "    }\n",
       "\n",
       "    .dataframe thead th {\n",
       "        text-align: right;\n",
       "    }\n",
       "</style>\n",
       "<table border=\"1\" class=\"dataframe\">\n",
       "  <thead>\n",
       "    <tr style=\"text-align: right;\">\n",
       "      <th></th>\n",
       "      <th>INITCAP</th>\n",
       "      <th>ACTCAP</th>\n",
       "      <th>WL_CAP</th>\n",
       "      <th>num_gradute</th>\n",
       "      <th>num_admited</th>\n",
       "      <th>Crse</th>\n",
       "      <th>CRN</th>\n",
       "    </tr>\n",
       "  </thead>\n",
       "  <tbody>\n",
       "    <tr>\n",
       "      <th>count</th>\n",
       "      <td>13500.000000</td>\n",
       "      <td>13500.000000</td>\n",
       "      <td>13500.000000</td>\n",
       "      <td>13500.000000</td>\n",
       "      <td>13500.000000</td>\n",
       "      <td>13500.0</td>\n",
       "      <td>13500.0</td>\n",
       "    </tr>\n",
       "    <tr>\n",
       "      <th>mean</th>\n",
       "      <td>449.555556</td>\n",
       "      <td>439.728148</td>\n",
       "      <td>3.519778</td>\n",
       "      <td>149.392296</td>\n",
       "      <td>474.742296</td>\n",
       "      <td>6035.0</td>\n",
       "      <td>39081.0</td>\n",
       "    </tr>\n",
       "    <tr>\n",
       "      <th>std</th>\n",
       "      <td>276.314995</td>\n",
       "      <td>277.011104</td>\n",
       "      <td>6.010188</td>\n",
       "      <td>28.723973</td>\n",
       "      <td>130.317116</td>\n",
       "      <td>0.0</td>\n",
       "      <td>0.0</td>\n",
       "    </tr>\n",
       "    <tr>\n",
       "      <th>min</th>\n",
       "      <td>50.000000</td>\n",
       "      <td>10.000000</td>\n",
       "      <td>0.000000</td>\n",
       "      <td>100.000000</td>\n",
       "      <td>250.000000</td>\n",
       "      <td>6035.0</td>\n",
       "      <td>39081.0</td>\n",
       "    </tr>\n",
       "    <tr>\n",
       "      <th>25%</th>\n",
       "      <td>200.000000</td>\n",
       "      <td>206.000000</td>\n",
       "      <td>0.000000</td>\n",
       "      <td>125.000000</td>\n",
       "      <td>362.000000</td>\n",
       "      <td>6035.0</td>\n",
       "      <td>39081.0</td>\n",
       "    </tr>\n",
       "    <tr>\n",
       "      <th>50%</th>\n",
       "      <td>450.000000</td>\n",
       "      <td>423.000000</td>\n",
       "      <td>0.000000</td>\n",
       "      <td>149.000000</td>\n",
       "      <td>474.000000</td>\n",
       "      <td>6035.0</td>\n",
       "      <td>39081.0</td>\n",
       "    </tr>\n",
       "    <tr>\n",
       "      <th>75%</th>\n",
       "      <td>600.000000</td>\n",
       "      <td>599.000000</td>\n",
       "      <td>6.000000</td>\n",
       "      <td>174.000000</td>\n",
       "      <td>588.000000</td>\n",
       "      <td>6035.0</td>\n",
       "      <td>39081.0</td>\n",
       "    </tr>\n",
       "    <tr>\n",
       "      <th>max</th>\n",
       "      <td>999.000000</td>\n",
       "      <td>1019.000000</td>\n",
       "      <td>20.000000</td>\n",
       "      <td>199.000000</td>\n",
       "      <td>699.000000</td>\n",
       "      <td>6035.0</td>\n",
       "      <td>39081.0</td>\n",
       "    </tr>\n",
       "  </tbody>\n",
       "</table>\n",
       "</div>"
      ],
      "text/plain": [
       "            INITCAP        ACTCAP        WL_CAP   num_gradute   num_admited  \\\n",
       "count  13500.000000  13500.000000  13500.000000  13500.000000  13500.000000   \n",
       "mean     449.555556    439.728148      3.519778    149.392296    474.742296   \n",
       "std      276.314995    277.011104      6.010188     28.723973    130.317116   \n",
       "min       50.000000     10.000000      0.000000    100.000000    250.000000   \n",
       "25%      200.000000    206.000000      0.000000    125.000000    362.000000   \n",
       "50%      450.000000    423.000000      0.000000    149.000000    474.000000   \n",
       "75%      600.000000    599.000000      6.000000    174.000000    588.000000   \n",
       "max      999.000000   1019.000000     20.000000    199.000000    699.000000   \n",
       "\n",
       "          Crse      CRN  \n",
       "count  13500.0  13500.0  \n",
       "mean    6035.0  39081.0  \n",
       "std        0.0      0.0  \n",
       "min     6035.0  39081.0  \n",
       "25%     6035.0  39081.0  \n",
       "50%     6035.0  39081.0  \n",
       "75%     6035.0  39081.0  \n",
       "max     6035.0  39081.0  "
      ]
     },
     "execution_count": 29,
     "metadata": {},
     "output_type": "execute_result"
    }
   ],
   "source": [
    "course_df.describe()"
   ]
  },
  {
   "cell_type": "code",
   "execution_count": 30,
   "metadata": {},
   "outputs": [
    {
     "data": {
      "text/plain": [
       "INITCAP        0\n",
       "ACTCAP         0\n",
       "WL_CAP         0\n",
       "TERM           0\n",
       "num_gradute    0\n",
       "num_admited    0\n",
       "Crse           0\n",
       "Subj           0\n",
       "CRN            0\n",
       "dtype: int64"
      ]
     },
     "execution_count": 30,
     "metadata": {},
     "output_type": "execute_result"
    }
   ],
   "source": [
    "## Check for missing values\n",
    "course_df.isnull().sum()"
   ]
  },
  {
   "cell_type": "code",
   "execution_count": null,
   "metadata": {},
   "outputs": [],
   "source": []
  },
  {
   "cell_type": "code",
   "execution_count": 31,
   "metadata": {},
   "outputs": [],
   "source": [
    "course_df_cat = course_df.select_dtypes(include=[\"object\"])"
   ]
  },
  {
   "cell_type": "code",
   "execution_count": 32,
   "metadata": {},
   "outputs": [],
   "source": [
    "numerics = ['int16', 'int32', 'int64', 'float16', 'float32', 'float64']\n",
    "course_df_num = course_df.select_dtypes(include=numerics)"
   ]
  },
  {
   "cell_type": "code",
   "execution_count": null,
   "metadata": {},
   "outputs": [],
   "source": []
  },
  {
   "cell_type": "markdown",
   "metadata": {},
   "source": [
    "## Analysis of numerical features"
   ]
  },
  {
   "cell_type": "code",
   "execution_count": 33,
   "metadata": {},
   "outputs": [
    {
     "data": {
      "image/png": "[encoded data removed]",
      "text/plain": [
       "<Figure size 1080x576 with 9 Axes>"
      ]
     },
     "metadata": {
      "needs_background": "light"
     },
     "output_type": "display_data"
    }
   ],
   "source": [
    "course_df_num.hist(figsize=(15,8));"
   ]
  },
  {
   "cell_type": "markdown",
   "metadata": {},
   "source": [
    "## Analysis of the target value"
   ]
  },
  {
   "cell_type": "code",
   "execution_count": 34,
   "metadata": {},
   "outputs": [
    {
     "data": {
      "text/plain": [
       "Index(['INITCAP', 'ACTCAP', 'WL_CAP', 'num_gradute', 'num_admited', 'Crse',\n",
       "       'CRN'],\n",
       "      dtype='object')"
      ]
     },
     "execution_count": 34,
     "metadata": {},
     "output_type": "execute_result"
    }
   ],
   "source": [
    "course_df_num.columns"
   ]
  },
  {
   "cell_type": "code",
   "execution_count": 35,
   "metadata": {},
   "outputs": [
    {
     "data": {
      "text/plain": [
       "313    55\n",
       "318    54\n",
       "316    52\n",
       "169    50\n",
       "314    47\n",
       "       ..\n",
       "327     7\n",
       "449     6\n",
       "964     6\n",
       "846     5\n",
       "448     5\n",
       "Name: ACTCAP, Length: 716, dtype: int64"
      ]
     },
     "execution_count": 35,
     "metadata": {},
     "output_type": "execute_result"
    }
   ],
   "source": [
    "\n",
    "course_df_num.ACTCAP.value_counts()"
   ]
  },
  {
   "cell_type": "code",
   "execution_count": 36,
   "metadata": {},
   "outputs": [
    {
     "data": {
      "text/plain": [
       "<AxesSubplot:>"
      ]
     },
     "execution_count": 36,
     "metadata": {},
     "output_type": "execute_result"
    },
    {
     "data": {
      "image/png": "[encoded data removed]",
      "text/plain": [
       "<Figure size 432x288 with 2 Axes>"
      ]
     },
     "metadata": {
      "needs_background": "light"
     },
     "output_type": "display_data"
    }
   ],
   "source": [
    "## Look for correlation\n",
    "sns.heatmap(course_df_num[[\"INITCAP\", \"ACTCAP\", \"WL_CAP\", \"num_gradute\", \"num_admited\"]].corr())"
   ]
  },
  {
   "cell_type": "code",
   "execution_count": null,
   "metadata": {},
   "outputs": [],
   "source": []
  },
  {
   "cell_type": "markdown",
   "metadata": {},
   "source": [
    "## Split data"
   ]
  },
  {
   "cell_type": "code",
   "execution_count": 37,
   "metadata": {},
   "outputs": [],
   "source": [
    "# Use stratify split to ensure data balance"
   ]
  },
  {
   "cell_type": "code",
   "execution_count": 38,
   "metadata": {},
   "outputs": [],
   "source": [
    "train, test = train_test_split(course_df, test_size=0.2, random_state=42, shuffle=True, stratify=course_df[\"ACTCAP\"])"
   ]
  },
  {
   "cell_type": "code",
   "execution_count": null,
   "metadata": {},
   "outputs": [],
   "source": []
  },
  {
   "cell_type": "code",
   "execution_count": 39,
   "metadata": {},
   "outputs": [],
   "source": [
    "## Save split data\n",
    "train.to_csv(\"train.csv\", index=False)\n",
    "test.to_csv(\"valid.csv\" , index=False)"
   ]
  },
  {
   "cell_type": "code",
   "execution_count": null,
   "metadata": {},
   "outputs": [],
   "source": []
  },
  {
   "cell_type": "code",
   "execution_count": null,
   "metadata": {},
   "outputs": [],
   "source": []
  },
  {
   "cell_type": "code",
   "execution_count": null,
   "metadata": {},
   "outputs": [],
   "source": []
  },
  {
   "cell_type": "code",
   "execution_count": null,
   "metadata": {},
   "outputs": [],
   "source": []
  },
  {
   "cell_type": "code",
   "execution_count": null,
   "metadata": {},
   "outputs": [],
   "source": []
  }
 ],
 "metadata": {
  "kernelspec": {
   "display_name": "Python 3",
   "language": "python",
   "name": "python3"
  },
  "language_info": {
   "codemirror_mode": {
    "name": "ipython",
    "version": 3
   },
   "file_extension": ".py",
   "mimetype": "text/x-python",
   "name": "python",
   "nbconvert_exporter": "python",
   "pygments_lexer": "ipython3",
   "version": "3.8.5"
  }
 },
 "nbformat": 4,
 "nbformat_minor": 4
}
